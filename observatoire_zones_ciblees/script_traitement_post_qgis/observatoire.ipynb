{
 "cells": [
  {
   "cell_type": "code",
   "execution_count": 51,
   "metadata": {},
   "outputs": [],
   "source": [
    "import csv\n",
    "import pandas as pd\n",
    "import numpy as np\n",
    "from datetime import datetime\n",
    "merge_file = pd.read_csv('QGIS_FILE.csv',sep=',', encoding='latin-1',low_memory= False)\n",
    "def sum_frame_by_column(frame, new_col_name, list_of_cols_to_sum):\n",
    "        frame[new_col_name] = frame[list_of_cols_to_sum].astype(float).sum(axis=1) \n",
    "        return(frame) \n"
   ]
  },
  {
   "cell_type": "code",
   "execution_count": 52,
   "metadata": {},
   "outputs": [
    {
     "data": {
      "text/plain": [
       "14848"
      ]
     },
     "execution_count": 52,
     "metadata": {},
     "output_type": "execute_result"
    }
   ],
   "source": [
    "merge = merge_file.drop_duplicates(subset=[ 'sup_id'])\n",
    "merge.sup_id.value_counts().sum()"
   ]
  },
  {
   "cell_type": "code",
   "execution_count": 53,
   "metadata": {},
   "outputs": [
    {
     "data": {
      "text/plain": [
       "UMTS 900     6691\n",
       "LTE 700      5110\n",
       "UMTS 2100    5045\n",
       "LTE 1800     4940\n",
       "LTE 2600     4844\n",
       "Name: emr_lb_systeme, dtype: int64"
      ]
     },
     "execution_count": 53,
     "metadata": {},
     "output_type": "execute_result"
    }
   ],
   "source": [
    "collecte = []\n",
    "boyugues = merge_file [merge_file['adm_lb_nom'] == 'BOUYGUES TELECOM']\n",
    "orange =merge_file [merge_file['adm_lb_nom'] == 'ORANGE']\n",
    "sfr = merge_file [merge_file['adm_lb_nom'] == 'SFR']\n",
    "free = merge_file [merge_file['adm_lb_nom'] == 'FREE MOBILE']\n",
    "count_boyugues = boyugues.emr_lb_systeme.value_counts()\n",
    "count_boyugues_total = boyugues.emr_lb_systeme.value_counts().sum()\n",
    "count_orange = orange.emr_lb_systeme.value_counts()\n",
    "coun_orange_total = orange.emr_lb_systeme.value_counts().sum()\n",
    "count_sfr = sfr.emr_lb_systeme.value_counts()\n",
    "count_sfr_total = sfr.emr_lb_systeme.value_counts().sum()\n",
    "count_free = free.emr_lb_systeme.value_counts()\n",
    "count_free_total =  free.emr_lb_systeme.value_counts().sum()\n",
    "df = pd.DataFrame([list(count_orange) ,list(count_sfr)], columns = [\"umts_900\", \"gsm_900\", \"umts_2100\",\"lte_800\"\n",
    "                                                                                          ,\"lte_1800\" ,  \"gsm_1800\" ,\"lte_2600\"  , \"lte_2100\" , \"lte_700\"])\n",
    "count_free"
   ]
  },
  {
   "cell_type": "code",
   "execution_count": 54,
   "metadata": {},
   "outputs": [
    {
     "data": {
      "text/plain": [
       "UMTS 900     7067\n",
       "GSM 900      6725\n",
       "LTE 800      5956\n",
       "UMTS 2100    3961\n",
       "LTE 1800     2740\n",
       "GSM 1800     1237\n",
       "LTE 2600      894\n",
       "LTE 2100      341\n",
       "LTE 700       149\n",
       "Name: emr_lb_systeme, dtype: int64"
      ]
     },
     "execution_count": 54,
     "metadata": {},
     "output_type": "execute_result"
    }
   ],
   "source": [
    "count_boyugues"
   ]
  },
  {
   "cell_type": "code",
   "execution_count": 55,
   "metadata": {},
   "outputs": [
    {
     "data": {
      "text/plain": [
       "UMTS 900     7067\n",
       "GSM 900      6725\n",
       "LTE 800      5956\n",
       "UMTS 2100    3961\n",
       "LTE 1800     2740\n",
       "GSM 1800     1237\n",
       "LTE 2600      894\n",
       "LTE 2100      341\n",
       "LTE 700       149\n",
       "Name: emr_lb_systeme, dtype: int64"
      ]
     },
     "execution_count": 55,
     "metadata": {},
     "output_type": "execute_result"
    }
   ],
   "source": [
    "count_boyugues"
   ]
  },
  {
   "cell_type": "code",
   "execution_count": 56,
   "metadata": {},
   "outputs": [
    {
     "data": {
      "text/plain": [
       "UMTS 900     7067\n",
       "GSM 900      6725\n",
       "LTE 800      5956\n",
       "UMTS 2100    3961\n",
       "LTE 1800     2740\n",
       "GSM 1800     1237\n",
       "LTE 2600      894\n",
       "LTE 2100      341\n",
       "LTE 700       149\n",
       "Name: emr_lb_systeme, dtype: int64"
      ]
     },
     "execution_count": 56,
     "metadata": {},
     "output_type": "execute_result"
    }
   ],
   "source": [
    "count_boyugues"
   ]
  },
  {
   "cell_type": "code",
   "execution_count": 57,
   "metadata": {},
   "outputs": [],
   "source": [
    "\n",
    "df = df.append({'umts_900' :count_free[0] , 'gsm_900' : 0 , 'umts_2100' : count_free[1] ,  'lte_800' : 0 , 'lte_1800' :count_free[3]  ,'gsm_1800':0 , 'lte_2600' : count_free[2] , 'lte_2100' : 0 , 'lte_700' : count_free[4] } , ignore_index=True)\n",
    "df = df.append({'umts_900' :count_boyugues[0] , 'gsm_900' : count_boyugues[1] ,  'lte_800' :  count_boyugues[2] , 'umts_2100' : count_boyugues[3] ,  'lte_1800' :count_boyugues[4]  ,'gsm_1800':count_boyugues[5] , 'lte_2600' : count_boyugues[6] , 'lte_2100' : count_boyugues[7] , 'lte_700' : count_boyugues[8] } , ignore_index=True)"
   ]
  },
  {
   "cell_type": "code",
   "execution_count": 58,
   "metadata": {},
   "outputs": [],
   "source": [
    "\n",
    "df = sum_frame_by_column(df, 'Total_Operateur', ['umts_900', 'gsm_900', 'umts_2100', 'lte_800', 'lte_1800','gsm_1800' , 'lte_2600', 'lte_2100', 'lte_700'])\n",
    "df = df.append({'umts_900' : int(df.umts_900.sum()) , 'gsm_900' : int(df.gsm_900.sum()) , 'umts_2100' : int(df.umts_2100.sum()) ,'lte_800' : int(df.lte_800.sum()) , 'lte_1800' : int(df.lte_1800.sum())  , 'gsm_1800' : int(df.gsm_1800.sum()) , 'lte_2600' : int(df.lte_2600.sum()) , 'lte_2100' : int(df.lte_2100.sum()) , 'lte_700' : int(df.lte_700.sum()), 'Total_Operateur':int(df.Total_Operateur.sum()) } , ignore_index=True)\n",
    "df['Operateurs_gsm'] = ['ORANGE','SFR','FREE MOBILE','BOUYGUES TELECOM','TOTAL_GENERAL']\n",
    "df.set_index(\"Operateurs_gsm\", inplace = True) "
   ]
  },
  {
   "cell_type": "code",
   "execution_count": 59,
   "metadata": {},
   "outputs": [
    {
     "data": {
      "text/html": [
       "<div>\n",
       "<style scoped>\n",
       "    .dataframe tbody tr th:only-of-type {\n",
       "        vertical-align: middle;\n",
       "    }\n",
       "\n",
       "    .dataframe tbody tr th {\n",
       "        vertical-align: top;\n",
       "    }\n",
       "\n",
       "    .dataframe thead th {\n",
       "        text-align: right;\n",
       "    }\n",
       "</style>\n",
       "<table border=\"1\" class=\"dataframe\">\n",
       "  <thead>\n",
       "    <tr style=\"text-align: right;\">\n",
       "      <th></th>\n",
       "      <th>umts_900</th>\n",
       "      <th>gsm_900</th>\n",
       "      <th>umts_2100</th>\n",
       "      <th>lte_800</th>\n",
       "      <th>lte_1800</th>\n",
       "      <th>gsm_1800</th>\n",
       "      <th>lte_2600</th>\n",
       "      <th>lte_2100</th>\n",
       "      <th>lte_700</th>\n",
       "      <th>Total_Operateur</th>\n",
       "    </tr>\n",
       "    <tr>\n",
       "      <th>Operateurs_gsm</th>\n",
       "      <th></th>\n",
       "      <th></th>\n",
       "      <th></th>\n",
       "      <th></th>\n",
       "      <th></th>\n",
       "      <th></th>\n",
       "      <th></th>\n",
       "      <th></th>\n",
       "      <th></th>\n",
       "      <th></th>\n",
       "    </tr>\n",
       "  </thead>\n",
       "  <tbody>\n",
       "    <tr>\n",
       "      <th>ORANGE</th>\n",
       "      <td>7862</td>\n",
       "      <td>6590</td>\n",
       "      <td>6511</td>\n",
       "      <td>4352</td>\n",
       "      <td>4028</td>\n",
       "      <td>2047</td>\n",
       "      <td>1758</td>\n",
       "      <td>544</td>\n",
       "      <td>520</td>\n",
       "      <td>34212.0</td>\n",
       "    </tr>\n",
       "    <tr>\n",
       "      <th>SFR</th>\n",
       "      <td>7331</td>\n",
       "      <td>6732</td>\n",
       "      <td>6398</td>\n",
       "      <td>5179</td>\n",
       "      <td>3065</td>\n",
       "      <td>1174</td>\n",
       "      <td>860</td>\n",
       "      <td>86</td>\n",
       "      <td>5</td>\n",
       "      <td>30830.0</td>\n",
       "    </tr>\n",
       "    <tr>\n",
       "      <th>FREE MOBILE</th>\n",
       "      <td>6691</td>\n",
       "      <td>0</td>\n",
       "      <td>5110</td>\n",
       "      <td>0</td>\n",
       "      <td>4940</td>\n",
       "      <td>0</td>\n",
       "      <td>5045</td>\n",
       "      <td>0</td>\n",
       "      <td>4844</td>\n",
       "      <td>26630.0</td>\n",
       "    </tr>\n",
       "    <tr>\n",
       "      <th>BOUYGUES TELECOM</th>\n",
       "      <td>7067</td>\n",
       "      <td>6725</td>\n",
       "      <td>3961</td>\n",
       "      <td>5956</td>\n",
       "      <td>2740</td>\n",
       "      <td>1237</td>\n",
       "      <td>894</td>\n",
       "      <td>341</td>\n",
       "      <td>149</td>\n",
       "      <td>29070.0</td>\n",
       "    </tr>\n",
       "    <tr>\n",
       "      <th>TOTAL_GENERAL</th>\n",
       "      <td>28951</td>\n",
       "      <td>20047</td>\n",
       "      <td>21980</td>\n",
       "      <td>15487</td>\n",
       "      <td>14773</td>\n",
       "      <td>4458</td>\n",
       "      <td>8557</td>\n",
       "      <td>971</td>\n",
       "      <td>5518</td>\n",
       "      <td>120742.0</td>\n",
       "    </tr>\n",
       "  </tbody>\n",
       "</table>\n",
       "</div>"
      ],
      "text/plain": [
       "                  umts_900  gsm_900  umts_2100  lte_800  lte_1800  gsm_1800  \\\n",
       "Operateurs_gsm                                                                \n",
       "ORANGE                7862     6590       6511     4352      4028      2047   \n",
       "SFR                   7331     6732       6398     5179      3065      1174   \n",
       "FREE MOBILE           6691        0       5110        0      4940         0   \n",
       "BOUYGUES TELECOM      7067     6725       3961     5956      2740      1237   \n",
       "TOTAL_GENERAL        28951    20047      21980    15487     14773      4458   \n",
       "\n",
       "                  lte_2600  lte_2100  lte_700  Total_Operateur  \n",
       "Operateurs_gsm                                                  \n",
       "ORANGE                1758       544      520          34212.0  \n",
       "SFR                    860        86        5          30830.0  \n",
       "FREE MOBILE           5045         0     4844          26630.0  \n",
       "BOUYGUES TELECOM       894       341      149          29070.0  \n",
       "TOTAL_GENERAL         8557       971     5518         120742.0  "
      ]
     },
     "execution_count": 59,
     "metadata": {},
     "output_type": "execute_result"
    }
   ],
   "source": [
    "df"
   ]
  },
  {
   "cell_type": "code",
   "execution_count": 60,
   "metadata": {},
   "outputs": [],
   "source": [
    "df_4g = merge_file.copy()\n",
    "df_4g = df_4g.drop_duplicates(subset=['adm_lb_nom' , 'sup_id' , 'generation'])\n",
    "boyugues_1 = df_4g [df_4g['adm_lb_nom'] == 'BOUYGUES TELECOM']\n",
    "orange_1 = df_4g [df_4g['adm_lb_nom'] == 'ORANGE']\n",
    "sfr_1 = df_4g[df_4g['adm_lb_nom'] == 'SFR']\n",
    "free_1 = df_4g[df_4g['adm_lb_nom'] == 'FREE MOBILE']\n"
   ]
  },
  {
   "cell_type": "code",
   "execution_count": 61,
   "metadata": {},
   "outputs": [
    {
     "data": {
      "text/plain": [
       "6860"
      ]
     },
     "execution_count": 61,
     "metadata": {},
     "output_type": "execute_result"
    }
   ],
   "source": [
    "boyugues_1_2G = len( boyugues_1[boyugues_1['generation'] == '2G'])\n",
    "boyugues_1_2G"
   ]
  },
  {
   "cell_type": "code",
   "execution_count": 62,
   "metadata": {},
   "outputs": [],
   "source": [
    "boyugues_1_2G = len(boyugues_1[boyugues_1['generation'] == '2G'])\n",
    "boyugues_1_3G = len(boyugues_1[boyugues_1['generation'] == '3G'])\n",
    "boyugues_1_4G = len(boyugues_1[boyugues_1['generation'] == '4G'])\n",
    "orange_1_2G = len(orange_1[orange_1['generation'] == '2G'])\n",
    "orange_1_3G = len(orange_1[orange_1['generation'] == '3G'])\n",
    "orange_1_4G = len(orange_1[orange_1['generation'] == '4G'])\n",
    "sfr_1_2G = len(sfr_1[sfr_1['generation'] == '2G'])\n",
    "sfr_1_3G = len(sfr_1[sfr_1['generation'] == '3G'])\n",
    "sfr_1_4G = len(sfr_1[sfr_1['generation'] == '4G'])\n",
    "free_1_2G =len(free_1[free_1['generation'] == '2G'])\n",
    "free_1_3G =len(free_1[free_1['generation'] == '3G'])\n",
    "free_1_4G = len(free_1[free_1['generation'] == '4G'])"
   ]
  },
  {
   "cell_type": "code",
   "execution_count": 63,
   "metadata": {},
   "outputs": [],
   "source": [
    "(boyugues_1[boyugues_1['generation'] == '3G']).to_csv('difference_Avril_2020.csv')"
   ]
  },
  {
   "cell_type": "code",
   "execution_count": 44,
   "metadata": {},
   "outputs": [],
   "source": [
    "data_4g = {'Operateurs_mobiles':  ['BOUYGUES TELECOM' ,'ORANGE' , 'SFR' , 'FREE MOBILE','Total_General'],\n",
    "          '2G': [boyugues_1_2G , orange_1_2G , sfr_1_2G , free_1_2G, (boyugues_1_2G+ orange_1_2G+sfr_1_2G+free_1_2G )] ,\n",
    "           '3G': [boyugues_1_3G,orange_1_3G,sfr_1_3G, free_1_3G, (boyugues_1_3G+orange_1_3G+sfr_1_3G+free_1_3G) ] , \n",
    "           '4G': [boyugues_1_4G,orange_1_4G, sfr_1_4G,free_1_4G, (boyugues_1_4G+orange_1_4G+sfr_1_4G+free_1_4G) ] , \n",
    "        'Total': [(boyugues_1_2G+boyugues_1_3G+boyugues_1_4G),(orange_1_2G+orange_1_3G+orange_1_4G )\n",
    "                  , (sfr_1_2G+sfr_1_3G+sfr_1_4G ), (free_1_2G+free_1_3G+free_1_4G )\n",
    "                  , (boyugues_1_2G+ orange_1_2G+sfr_1_2G+free_1_2G ) + (boyugues_1_3G+orange_1_3G+sfr_1_3G+free_1_3G) + (boyugues_1_4G+orange_1_4G+sfr_1_4G+free_1_4G) ] }\n",
    "df_4gg = pd.DataFrame (data_4g, columns = ['Operateurs_mobiles','2G','3G','4G','Total'])\n"
   ]
  },
  {
   "cell_type": "code",
   "execution_count": 45,
   "metadata": {},
   "outputs": [
    {
     "data": {
      "text/html": [
       "<div>\n",
       "<style scoped>\n",
       "    .dataframe tbody tr th:only-of-type {\n",
       "        vertical-align: middle;\n",
       "    }\n",
       "\n",
       "    .dataframe tbody tr th {\n",
       "        vertical-align: top;\n",
       "    }\n",
       "\n",
       "    .dataframe thead th {\n",
       "        text-align: right;\n",
       "    }\n",
       "</style>\n",
       "<table border=\"1\" class=\"dataframe\">\n",
       "  <thead>\n",
       "    <tr style=\"text-align: right;\">\n",
       "      <th></th>\n",
       "      <th>Operateurs_mobiles</th>\n",
       "      <th>2G</th>\n",
       "      <th>3G</th>\n",
       "      <th>4G</th>\n",
       "      <th>Total</th>\n",
       "    </tr>\n",
       "  </thead>\n",
       "  <tbody>\n",
       "    <tr>\n",
       "      <th>0</th>\n",
       "      <td>BOUYGUES TELECOM</td>\n",
       "      <td>6851</td>\n",
       "      <td>7636</td>\n",
       "      <td>6084</td>\n",
       "      <td>20571</td>\n",
       "    </tr>\n",
       "    <tr>\n",
       "      <th>1</th>\n",
       "      <td>ORANGE</td>\n",
       "      <td>6736</td>\n",
       "      <td>8427</td>\n",
       "      <td>7071</td>\n",
       "      <td>22234</td>\n",
       "    </tr>\n",
       "    <tr>\n",
       "      <th>2</th>\n",
       "      <td>SFR</td>\n",
       "      <td>6738</td>\n",
       "      <td>7938</td>\n",
       "      <td>6516</td>\n",
       "      <td>21192</td>\n",
       "    </tr>\n",
       "    <tr>\n",
       "      <th>3</th>\n",
       "      <td>FREE MOBILE</td>\n",
       "      <td>0</td>\n",
       "      <td>6851</td>\n",
       "      <td>5661</td>\n",
       "      <td>12512</td>\n",
       "    </tr>\n",
       "    <tr>\n",
       "      <th>4</th>\n",
       "      <td>Total_General</td>\n",
       "      <td>20325</td>\n",
       "      <td>30852</td>\n",
       "      <td>25332</td>\n",
       "      <td>76509</td>\n",
       "    </tr>\n",
       "  </tbody>\n",
       "</table>\n",
       "</div>"
      ],
      "text/plain": [
       "  Operateurs_mobiles     2G     3G     4G  Total\n",
       "0   BOUYGUES TELECOM   6851   7636   6084  20571\n",
       "1             ORANGE   6736   8427   7071  22234\n",
       "2                SFR   6738   7938   6516  21192\n",
       "3        FREE MOBILE      0   6851   5661  12512\n",
       "4      Total_General  20325  30852  25332  76509"
      ]
     },
     "execution_count": 45,
     "metadata": {},
     "output_type": "execute_result"
    }
   ],
   "source": [
    "df_4gg"
   ]
  },
  {
   "cell_type": "code",
   "execution_count": 96,
   "metadata": {},
   "outputs": [],
   "source": [
    "dft = merge_file.copy()\n",
    "dft = dft.drop_duplicates(subset=['sup_id', 'emr_lb_systeme'])\n",
    "lte_800 = dft[dft['emr_lb_systeme'] == 'LTE 800']\n",
    "lte_1800 = dft[dft['emr_lb_systeme'] == 'LTE 1800']\n",
    "lte_2600 = dft[dft['emr_lb_systeme'] == 'LTE 2600']\n",
    "lte_700 = dft[dft['emr_lb_systeme'] == 'LTE 700']\n",
    "lte_2100 = dft[dft['emr_lb_systeme'] == 'LTE 2100']\n",
    "umts_900 = dft[dft['emr_lb_systeme'] == 'UMTS 900']\n",
    "gsm_900 = dft[dft['emr_lb_systeme'] == 'GSM 900']\n",
    "umts_2100 = dft[dft['emr_lb_systeme'] == 'UMTS 2100']\n",
    "gsm_1800 = dft[dft['emr_lb_systeme'] == 'GSM 1800']\n",
    "len2_total = len(lte_800 )+ len(lte_1800)+ len(lte_2600 ) +len(lte_700 )+len(lte_2100)+len(umts_900)+len(gsm_900)+len(umts_2100)+len(gsm_1800)\n",
    "data2_4g = {'Systemes':  ['lte_800' ,'lte_1800' , 'lte_2600' , 'lte_700' , 'lte_2100', 'umts_900', 'gsm_900', 'umts_2100', 'gsm_1800', 'Total_General'],\n",
    "        'Total_Systeme': [ len(lte_800 ) , len(lte_1800), len(lte_2600 ) , len(lte_700 ),len(lte_2100),len(umts_900),len(gsm_900),len(umts_2100),len(gsm_1800) , len2_total ] }\n",
    "df2_4gg = pd.DataFrame (data2_4g, columns = ['Systemes','Total_Systeme'])"
   ]
  },
  {
   "cell_type": "code",
   "execution_count": 97,
   "metadata": {},
   "outputs": [
    {
     "data": {
      "text/html": [
       "<div>\n",
       "<style scoped>\n",
       "    .dataframe tbody tr th:only-of-type {\n",
       "        vertical-align: middle;\n",
       "    }\n",
       "\n",
       "    .dataframe tbody tr th {\n",
       "        vertical-align: top;\n",
       "    }\n",
       "\n",
       "    .dataframe thead th {\n",
       "        text-align: right;\n",
       "    }\n",
       "</style>\n",
       "<table border=\"1\" class=\"dataframe\">\n",
       "  <thead>\n",
       "    <tr style=\"text-align: right;\">\n",
       "      <th></th>\n",
       "      <th>Systemes</th>\n",
       "      <th>Total_Systeme</th>\n",
       "    </tr>\n",
       "  </thead>\n",
       "  <tbody>\n",
       "    <tr>\n",
       "      <th>0</th>\n",
       "      <td>lte_800</td>\n",
       "      <td>3450</td>\n",
       "    </tr>\n",
       "    <tr>\n",
       "      <th>1</th>\n",
       "      <td>lte_1800</td>\n",
       "      <td>2461</td>\n",
       "    </tr>\n",
       "    <tr>\n",
       "      <th>2</th>\n",
       "      <td>lte_2600</td>\n",
       "      <td>1895</td>\n",
       "    </tr>\n",
       "    <tr>\n",
       "      <th>3</th>\n",
       "      <td>lte_700</td>\n",
       "      <td>410</td>\n",
       "    </tr>\n",
       "    <tr>\n",
       "      <th>4</th>\n",
       "      <td>lte_2100</td>\n",
       "      <td>246</td>\n",
       "    </tr>\n",
       "    <tr>\n",
       "      <th>5</th>\n",
       "      <td>umts_900</td>\n",
       "      <td>4613</td>\n",
       "    </tr>\n",
       "    <tr>\n",
       "      <th>6</th>\n",
       "      <td>gsm_900</td>\n",
       "      <td>4487</td>\n",
       "    </tr>\n",
       "    <tr>\n",
       "      <th>7</th>\n",
       "      <td>umts_2100</td>\n",
       "      <td>3577</td>\n",
       "    </tr>\n",
       "    <tr>\n",
       "      <th>8</th>\n",
       "      <td>gsm_1800</td>\n",
       "      <td>785</td>\n",
       "    </tr>\n",
       "    <tr>\n",
       "      <th>9</th>\n",
       "      <td>Total_General</td>\n",
       "      <td>21924</td>\n",
       "    </tr>\n",
       "  </tbody>\n",
       "</table>\n",
       "</div>"
      ],
      "text/plain": [
       "        Systemes  Total_Systeme\n",
       "0        lte_800           3450\n",
       "1       lte_1800           2461\n",
       "2       lte_2600           1895\n",
       "3        lte_700            410\n",
       "4       lte_2100            246\n",
       "5       umts_900           4613\n",
       "6        gsm_900           4487\n",
       "7      umts_2100           3577\n",
       "8       gsm_1800            785\n",
       "9  Total_General          21924"
      ]
     },
     "execution_count": 97,
     "metadata": {},
     "output_type": "execute_result"
    }
   ],
   "source": [
    "df2_4gg"
   ]
  },
  {
   "cell_type": "code",
   "execution_count": 98,
   "metadata": {},
   "outputs": [
    {
     "data": {
      "text/plain": [
       "Index(['id', 'adm_lb_nom', 'sup_id', 'emr_lb_systeme', 'emr_dt_service',\n",
       "       'sta_nm_dpt', 'code_insee', 'generation', 'date_maj',\n",
       "       'total_de_adm_lb_nom', 'sta_nm_anfr', 'nat_id', 'sup_nm_haut', 'tpo_id',\n",
       "       'adr_lb_lieu', 'adr_lb_add1', 'adr_lb_add2', 'adr_lb_add3', 'adr_nm_cp',\n",
       "       'com_cd_insee', 'coordonnee_X', 'coordonnee_Y', 'coord', 'en_service'],\n",
       "      dtype='object')"
      ]
     },
     "execution_count": 98,
     "metadata": {},
     "output_type": "execute_result"
    }
   ],
   "source": [
    "dn=merge_file.copy()\n",
    "dn=dn.drop_duplicates(subset=[\"sup_id\" , \"generation\"])\n",
    "dn.columns"
   ]
  },
  {
   "cell_type": "code",
   "execution_count": 99,
   "metadata": {},
   "outputs": [],
   "source": [
    "two_g = dn[dn['generation'] == '2G']\n",
    "three_g = dn[dn['generation'] == '3G']\n",
    "four_g = dn[dn['generation'] == '4G']"
   ]
  },
  {
   "cell_type": "code",
   "execution_count": 100,
   "metadata": {},
   "outputs": [
    {
     "data": {
      "text/plain": [
       "4565"
      ]
     },
     "execution_count": 100,
     "metadata": {},
     "output_type": "execute_result"
    }
   ],
   "source": [
    "two_g.sup_id.count()"
   ]
  },
  {
   "cell_type": "code",
   "execution_count": 101,
   "metadata": {},
   "outputs": [
    {
     "data": {
      "text/html": [
       "<div>\n",
       "<style scoped>\n",
       "    .dataframe tbody tr th:only-of-type {\n",
       "        vertical-align: middle;\n",
       "    }\n",
       "\n",
       "    .dataframe tbody tr th {\n",
       "        vertical-align: top;\n",
       "    }\n",
       "\n",
       "    .dataframe thead th {\n",
       "        text-align: right;\n",
       "    }\n",
       "</style>\n",
       "<table border=\"1\" class=\"dataframe\">\n",
       "  <thead>\n",
       "    <tr style=\"text-align: right;\">\n",
       "      <th></th>\n",
       "      <th>Technologie</th>\n",
       "      <th>Nbre_sup_id</th>\n",
       "    </tr>\n",
       "  </thead>\n",
       "  <tbody>\n",
       "    <tr>\n",
       "      <th>0</th>\n",
       "      <td>2G</td>\n",
       "      <td>4565</td>\n",
       "    </tr>\n",
       "    <tr>\n",
       "      <th>1</th>\n",
       "      <td>3G</td>\n",
       "      <td>5028</td>\n",
       "    </tr>\n",
       "    <tr>\n",
       "      <th>2</th>\n",
       "      <td>4G</td>\n",
       "      <td>4006</td>\n",
       "    </tr>\n",
       "    <tr>\n",
       "      <th>3</th>\n",
       "      <td>Total_general</td>\n",
       "      <td>13599</td>\n",
       "    </tr>\n",
       "  </tbody>\n",
       "</table>\n",
       "</div>"
      ],
      "text/plain": [
       "     Technologie  Nbre_sup_id\n",
       "0             2G         4565\n",
       "1             3G         5028\n",
       "2             4G         4006\n",
       "3  Total_general        13599"
      ]
     },
     "execution_count": 101,
     "metadata": {},
     "output_type": "execute_result"
    }
   ],
   "source": [
    "dn_4g = {'Technologie': [\"2G\", \"3G\", \"4G\" ,\"Total_general\"],\n",
    "        'Nbre_sup_id': [two_g.sup_id.count() , three_g.sup_id.count() , four_g.sup_id.count() , dn.sup_id.count().sum()] }\n",
    "dn_4g_dt = pd.DataFrame (dn_4g, columns = ['Technologie', 'Nbre_sup_id'])    \n",
    "dn_4g_dt"
   ]
  },
  {
   "cell_type": "code",
   "execution_count": 102,
   "metadata": {},
   "outputs": [
    {
     "name": "stdout",
     "output_type": "stream",
     "text": [
      "Traitement_achevé.......||........ANFR\n"
     ]
    }
   ],
   "source": [
    "writer = pd.ExcelWriter('Resultat.xlsx', engine='xlsxwriter')\n",
    "# Convert the dataframe to an XlsxWriter Excel object.\n",
    "df.to_excel(writer, sheet_name='Nbre_station_par_oper_freq.xlsx', index = True, header=True)\n",
    "df_4gg.to_excel(writer, sheet_name='Nbre_station_par_operateur.xlsx', index = False, header=True)\n",
    "df2_4gg.to_excel(writer, sheet_name='Nbre_station_par_systeme.xlsx', index = False, header=True)\n",
    "dn_4g_dt.to_excel(writer, sheet_name='Nb_de_supports.xlsx', index = False, header=True)\n",
    "# Close the Pandas Excel writer and output the Excel file.\n",
    "writer.save()    \n",
    "print('Traitement_achevé.......||........ANFR')"
   ]
  },
  {
   "cell_type": "code",
   "execution_count": null,
   "metadata": {},
   "outputs": [],
   "source": []
  }
 ],
 "metadata": {
  "kernelspec": {
   "display_name": "Python 3",
   "language": "python",
   "name": "python3"
  },
  "language_info": {
   "codemirror_mode": {
    "name": "ipython",
    "version": 3
   },
   "file_extension": ".py",
   "mimetype": "text/x-python",
   "name": "python",
   "nbconvert_exporter": "python",
   "pygments_lexer": "ipython3",
   "version": "3.7.3"
  }
 },
 "nbformat": 4,
 "nbformat_minor": 2
}
