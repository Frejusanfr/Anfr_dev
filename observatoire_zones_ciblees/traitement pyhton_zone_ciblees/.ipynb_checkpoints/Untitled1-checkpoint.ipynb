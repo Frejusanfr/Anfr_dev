{
 "cells": [
  {
   "cell_type": "code",
   "execution_count": null,
   "metadata": {},
   "outputs": [],
   "source": [
    "import pandas as pd\n",
    "import csv\n",
    "import numpy\n",
    "import math\n",
    "from datetime import datetime\n",
    "file_4G_France=pd.read_csv('observatoire.csv',sep=';', encoding='latin-1')\n",
    "file_4G_France[\"emr_dt_service\"] = pd.to_datetime(file_4G_France[\"emr_dt_service\"], infer_datetime_format=True)\n",
    "date = pd.to_datetime(input('Entrer la date au format dd/mm/yyyy'),format='%d/%m/%Y')\n",
    "file_4G_France = file_4G_France.loc[(file_4G_France.emr_dt_service < date)]\n",
    "file_4G_France = file_4G_France[file_4G_France['en_service'] == \"En service\"]\n",
    "file_4G_France.sort_values(by = [\"emr_dt_service\"], inplace = True)\n",
    "file_4G_France=file_4G_France.drop_duplicates(subset=['adm_lb_nom', 'sup_id', 'emr_lb_systeme'])\n",
    "file_7=file_4G_France[file_4G_France['sta_nm_dpt'] == \"02B\" ]\n",
    "file_8= file_4G_France[file_4G_France['sta_nm_dpt'] == \"02A\"]\n",
    "file_4G_France = file_4G_France[file_4G_France['sta_nm_dpt'] != \"02B\"]\n",
    "file_4G_France = file_4G_France[file_4G_France['sta_nm_dpt'] != \"02A\"]\n",
    "file_4G_France=file_4G_France[file_4G_France['sta_nm_dpt'].astype('int64') <= 95]\n",
    "file_4G_France = pd.concat([file_7,file_8,file_4G_France], ignore_index=True)\n",
    "def transform(data):\n",
    "    buffer = data.split(',')\n",
    "    obj = dict()\n",
    "    obj[\"coordonnee_y\"] = buffer[0]\n",
    "    obj[\"coordonnee_x\"] = buffer[1]\n",
    "    return obj\n",
    "resultat = list(map(lambda x: transform(x),  list(file_4G_France[\"coordonnees\"])))\n",
    "Y = list(map(lambda x: x[\"coordonnee_y\"], resultat))\n",
    "X = list(map(lambda x: x[\"coordonnee_x\"], resultat))\n",
    "dt = file_4G_France.copy()\n",
    "dt.insert(21, 'coordonnee_X', X)\n",
    "dt.insert(22, 'coordonnee_Y', Y)\n",
    "dt = dt.drop('coordonnees', axis=1)\n",
    "val = 1\n",
    "#for ind, row in dt.iterrows():\n",
    "#    dt.loc[ind,\"id\"]=val\n",
    "#    val=val+1\n",
    "dt.to_csv(\"Fichier_QGIS_4G.csv\",index = False, header=True)\n",
    "dt.shape\n",
    "print(\"Traitement achévé |:\")"
   ]
  }
 ],
 "metadata": {
  "kernelspec": {
   "display_name": "Python 3",
   "language": "python",
   "name": "python3"
  },
  "language_info": {
   "codemirror_mode": {
    "name": "ipython",
    "version": 3
   },
   "file_extension": ".py",
   "mimetype": "text/x-python",
   "name": "python",
   "nbconvert_exporter": "python",
   "pygments_lexer": "ipython3",
   "version": "3.7.3"
  }
 },
 "nbformat": 4,
 "nbformat_minor": 2
}
